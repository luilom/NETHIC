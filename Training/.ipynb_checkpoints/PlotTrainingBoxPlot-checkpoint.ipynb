{
 "cells": [
  {
   "cell_type": "code",
   "execution_count": 8,
   "metadata": {},
   "outputs": [],
   "source": [
    "import pandas as pd\n",
    "import matplotlib.pyplot as plt\n",
    "import numpy as np\n",
    "import matplotlib as mpl \n",
    "\n"
   ]
  },
  {
   "cell_type": "code",
   "execution_count": 9,
   "metadata": {},
   "outputs": [
    {
     "data": {
      "text/html": [
       "<div>\n",
       "<style scoped>\n",
       "    .dataframe tbody tr th:only-of-type {\n",
       "        vertical-align: middle;\n",
       "    }\n",
       "\n",
       "    .dataframe tbody tr th {\n",
       "        vertical-align: top;\n",
       "    }\n",
       "\n",
       "    .dataframe thead th {\n",
       "        text-align: right;\n",
       "    }\n",
       "</style>\n",
       "<table border=\"1\" class=\"dataframe\">\n",
       "  <thead>\n",
       "    <tr style=\"text-align: right;\">\n",
       "      <th></th>\n",
       "      <th>category</th>\n",
       "      <th>score</th>\n",
       "      <th>n_samples</th>\n",
       "    </tr>\n",
       "  </thead>\n",
       "  <tbody>\n",
       "    <tr>\n",
       "      <th>0</th>\n",
       "      <td>business_and_industrial</td>\n",
       "      <td>0.903226</td>\n",
       "      <td>217</td>\n",
       "    </tr>\n",
       "    <tr>\n",
       "      <th>1</th>\n",
       "      <td>shopping</td>\n",
       "      <td>0.854167</td>\n",
       "      <td>96</td>\n",
       "    </tr>\n",
       "    <tr>\n",
       "      <th>2</th>\n",
       "      <td>govt_and_politics</td>\n",
       "      <td>0.823529</td>\n",
       "      <td>119</td>\n",
       "    </tr>\n",
       "    <tr>\n",
       "      <th>3</th>\n",
       "      <td>art_and_entertainment</td>\n",
       "      <td>0.837963</td>\n",
       "      <td>216</td>\n",
       "    </tr>\n",
       "    <tr>\n",
       "      <th>4</th>\n",
       "      <td>automotive_and_vehicles</td>\n",
       "      <td>0.833333</td>\n",
       "      <td>198</td>\n",
       "    </tr>\n",
       "    <tr>\n",
       "      <th>5</th>\n",
       "      <td>science</td>\n",
       "      <td>0.887931</td>\n",
       "      <td>232</td>\n",
       "    </tr>\n",
       "    <tr>\n",
       "      <th>6</th>\n",
       "      <td>home_and_garden</td>\n",
       "      <td>0.849624</td>\n",
       "      <td>133</td>\n",
       "    </tr>\n",
       "    <tr>\n",
       "      <th>7</th>\n",
       "      <td>family_and_parenting</td>\n",
       "      <td>0.834483</td>\n",
       "      <td>145</td>\n",
       "    </tr>\n",
       "    <tr>\n",
       "      <th>8</th>\n",
       "      <td>finance</td>\n",
       "      <td>0.821053</td>\n",
       "      <td>95</td>\n",
       "    </tr>\n",
       "    <tr>\n",
       "      <th>9</th>\n",
       "      <td>technology_and_computing</td>\n",
       "      <td>0.790598</td>\n",
       "      <td>234</td>\n",
       "    </tr>\n",
       "    <tr>\n",
       "      <th>10</th>\n",
       "      <td>society</td>\n",
       "      <td>0.757576</td>\n",
       "      <td>198</td>\n",
       "    </tr>\n",
       "    <tr>\n",
       "      <th>11</th>\n",
       "      <td>health_and_fitness</td>\n",
       "      <td>0.887324</td>\n",
       "      <td>213</td>\n",
       "    </tr>\n",
       "    <tr>\n",
       "      <th>12</th>\n",
       "      <td>pets</td>\n",
       "      <td>0.890244</td>\n",
       "      <td>164</td>\n",
       "    </tr>\n",
       "    <tr>\n",
       "      <th>13</th>\n",
       "      <td>religion_and_spirituality</td>\n",
       "      <td>0.848276</td>\n",
       "      <td>145</td>\n",
       "    </tr>\n",
       "    <tr>\n",
       "      <th>14</th>\n",
       "      <td>education</td>\n",
       "      <td>0.802083</td>\n",
       "      <td>96</td>\n",
       "    </tr>\n",
       "    <tr>\n",
       "      <th>15</th>\n",
       "      <td>root</td>\n",
       "      <td>0.723180</td>\n",
       "      <td>2843</td>\n",
       "    </tr>\n",
       "    <tr>\n",
       "      <th>16</th>\n",
       "      <td>travel</td>\n",
       "      <td>0.897959</td>\n",
       "      <td>98</td>\n",
       "    </tr>\n",
       "    <tr>\n",
       "      <th>17</th>\n",
       "      <td>food_and_drink</td>\n",
       "      <td>0.802721</td>\n",
       "      <td>147</td>\n",
       "    </tr>\n",
       "  </tbody>\n",
       "</table>\n",
       "</div>"
      ],
      "text/plain": [
       "                     category     score  n_samples\n",
       "0     business_and_industrial  0.903226        217\n",
       "1                    shopping  0.854167         96\n",
       "2           govt_and_politics  0.823529        119\n",
       "3       art_and_entertainment  0.837963        216\n",
       "4     automotive_and_vehicles  0.833333        198\n",
       "5                     science  0.887931        232\n",
       "6             home_and_garden  0.849624        133\n",
       "7        family_and_parenting  0.834483        145\n",
       "8                     finance  0.821053         95\n",
       "9    technology_and_computing  0.790598        234\n",
       "10                    society  0.757576        198\n",
       "11         health_and_fitness  0.887324        213\n",
       "12                       pets  0.890244        164\n",
       "13  religion_and_spirituality  0.848276        145\n",
       "14                  education  0.802083         96\n",
       "15                       root  0.723180       2843\n",
       "16                     travel  0.897959         98\n",
       "17             food_and_drink  0.802721        147"
      ]
     },
     "execution_count": 9,
     "metadata": {},
     "output_type": "execute_result"
    }
   ],
   "source": [
    "accuracyTraining = pd.read_csv('training_accuracy_logistic_adam.csv')\n",
    "accuracyTraining.set_index(\"category\")\n",
    "accuracyTraining.drop(['Unnamed: 0'], axis=1)\n",
    "\n",
    "accuracyTest = pd.read_csv('test_accuracy_logistic_adam.csv')\n",
    "accuracyTest.set_index(\"category\")\n",
    "accuracyTest.drop(['Unnamed: 0'], axis=1)\n"
   ]
  },
  {
   "cell_type": "code",
   "execution_count": 10,
   "metadata": {},
   "outputs": [
    {
     "data": {
      "image/png": "[encoded data removed]",
      "text/plain": [
       "<Figure size 432x288 with 1 Axes>"
      ]
     },
     "metadata": {},
     "output_type": "display_data"
    },
    {
     "data": {
      "text/plain": [
       "<Figure size 2160x288 with 0 Axes>"
      ]
     },
     "metadata": {},
     "output_type": "display_data"
    }
   ],
   "source": [
    "plt.boxplot(accuracyTraining[\"score\"])\n",
    "plt.title(\"Training Accuracy\")\n",
    "plt.ylabel(\"Accuracy\")\n",
    "plt.xlabel([\"Training\",\"Test\"])\n",
    "plt.figure(figsize=(30,4))\n",
    "plt.savefig('trainingAccuracy.pdf')\n",
    "\n"
   ]
  },
  {
   "cell_type": "code",
   "execution_count": 12,
   "metadata": {},
   "outputs": [
    {
     "data": {
      "image/png": "[encoded data removed]",
      "text/plain": [
       "<Figure size 720x576 with 1 Axes>"
      ]
     },
     "metadata": {},
     "output_type": "display_data"
    }
   ],
   "source": [
    "data_to_plot = [accuracyTraining[\"score\"]*100, accuracyTest[\"score\"]*100]\n",
    "\n",
    "fig = plt.figure(10, figsize=(10, 8))\n",
    "\n",
    "# Create an axes instance\n",
    "ax = fig.add_subplot(111)\n",
    "\n",
    "# Create the boxplot\n",
    "bp = ax.boxplot(data_to_plot,widths =0.4)\n",
    "\n",
    "ax.set_xticklabels(['Training', 'Test'],fontsize=20)\n",
    "ax.tick_params(axis=\"y\",labelsize=16)\n",
    "plt.title(\"Training and test Accuracy GLOBAL NNs\",fontsize=22)\n",
    "plt.ylabel(\"Accuracy (%)\",fontsize=20)\n",
    "# Save the figure\n",
    "plt.savefig('trainingAndTestAccuracyDante.pdf')"
   ]
  },
  {
   "cell_type": "code",
   "execution_count": null,
   "metadata": {},
   "outputs": [],
   "source": []
  },
  {
   "cell_type": "code",
   "execution_count": null,
   "metadata": {},
   "outputs": [],
   "source": []
  }
 ],
 "metadata": {
  "kernelspec": {
   "display_name": "Python 2",
   "language": "python",
   "name": "python2"
  },
  "language_info": {
   "codemirror_mode": {
    "name": "ipython",
    "version": 2
   },
   "file_extension": ".py",
   "mimetype": "text/x-python",
   "name": "python",
   "nbconvert_exporter": "python",
   "pygments_lexer": "ipython2",
   "version": "2.7.12"
  }
 },
 "nbformat": 4,
 "nbformat_minor": 2
}
